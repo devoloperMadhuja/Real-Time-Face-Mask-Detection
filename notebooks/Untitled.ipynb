{
 "cells": [
  {
   "cell_type": "code",
   "execution_count": 2,
   "id": "d4f65735-8353-4052-98d7-9bfac2c912c7",
   "metadata": {},
   "outputs": [
    {
     "name": "stderr",
     "output_type": "stream",
     "text": [
      "C:\\Users\\debad\\AppData\\Local\\Programs\\Python\\Python312\\Lib\\site-packages\\keras\\src\\layers\\convolutional\\base_conv.py:107: UserWarning: Do not pass an `input_shape`/`input_dim` argument to a layer. When using Sequential models, prefer using an `Input(shape)` object as the first layer in the model instead.\n",
      "  super().__init__(activity_regularizer=activity_regularizer, **kwargs)\n"
     ]
    }
   ],
   "source": [
    "import tensorflow as tf  # Import TensorFlow\n",
    "from tensorflow.keras.utils import to_categorical\n",
    "from tensorflow.keras.models import Sequential\n",
    "from tensorflow.keras.layers import Conv2D, Dense, MaxPooling2D, Activation, Dropout, Flatten\n",
    "from tensorflow.keras.optimizers import Adam\n",
    "from sklearn.model_selection import train_test_split\n",
    "\n",
    "# Define paths and parameters\n",
    "\n",
    "model = tf.keras.models.Sequential([\n",
    "\ttf.keras.layers.Conv2D(100, (3, 3), activation='relu',\n",
    "\t\t\t\t\t\tinput_shape=(150, 150, 3)),\n",
    "\ttf.keras.layers.MaxPooling2D(2, 2),\n",
    "\n",
    "\ttf.keras.layers.Conv2D(100, (3, 3), activation='relu'),\n",
    "\ttf.keras.layers.MaxPooling2D(2, 2),\n",
    "\n",
    "\ttf.keras.layers.Flatten(),\n",
    "\ttf.keras.layers.Dropout(0.5),\n",
    "\ttf.keras.layers.Dense(50, activation='relu'),\n",
    "\ttf.keras.layers.Dense(2, activation='softmax')\n",
    "])\n",
    "model.compile(optimizer='adam', loss='binary_crossentropy', metrics=['acc'])\n"
   ]
  },
  {
   "cell_type": "code",
   "execution_count": 5,
   "id": "1351bffb-f5b5-4f5c-a3f6-0f36e4c5b9cb",
   "metadata": {},
   "outputs": [
    {
     "ename": "NameError",
     "evalue": "name 'train_generator' is not defined",
     "output_type": "error",
     "traceback": [
      "\u001b[1;31m---------------------------------------------------------------------------\u001b[0m",
      "\u001b[1;31mNameError\u001b[0m                                 Traceback (most recent call last)",
      "Cell \u001b[1;32mIn[5], line 1\u001b[0m\n\u001b[1;32m----> 1\u001b[0m history \u001b[38;5;241m=\u001b[39m model\u001b[38;5;241m.\u001b[39mfit(\u001b[43mtrain_generator\u001b[49m,\n\u001b[0;32m      2\u001b[0m                              epochs\u001b[38;5;241m=\u001b[39m\u001b[38;5;241m30\u001b[39m,\n\u001b[0;32m      3\u001b[0m                              validation_data\u001b[38;5;241m=\u001b[39mvalidation_generator,\n\u001b[0;32m      4\u001b[0m                              callbacks\u001b[38;5;241m=\u001b[39m[checkpoint])\n",
      "\u001b[1;31mNameError\u001b[0m: name 'train_generator' is not defined"
     ]
    }
   ],
   "source": [
    "history = model.fit(train_generator,\n",
    "                             epochs=30,\n",
    "                             validation_data=validation_generator,\n",
    "                             callbacks=[checkpoint])"
   ]
  },
  {
   "cell_type": "code",
   "execution_count": null,
   "id": "4afd7ac1-1046-42ff-9a6e-d7d1f1a96836",
   "metadata": {},
   "outputs": [],
   "source": []
  }
 ],
 "metadata": {
  "kernelspec": {
   "display_name": "Python 3 (ipykernel)",
   "language": "python",
   "name": "python3"
  },
  "language_info": {
   "codemirror_mode": {
    "name": "ipython",
    "version": 3
   },
   "file_extension": ".py",
   "mimetype": "text/x-python",
   "name": "python",
   "nbconvert_exporter": "python",
   "pygments_lexer": "ipython3",
   "version": "3.12.1"
  }
 },
 "nbformat": 4,
 "nbformat_minor": 5
}
